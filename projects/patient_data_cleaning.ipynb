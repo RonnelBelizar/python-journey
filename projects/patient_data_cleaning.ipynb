{
  "cells": [
    {
      "cell_type": "markdown",
      "metadata": {},
      "source": [
        "# patient_data_cleaning.ipynb\n",
        "\n",
        "This notebook demonstrates basic data cleaning steps for a patient test dataset (synthetic/anonymized)."
      ]
    },
    {
      "cell_type": "code",
      "execution_count": null,
      "metadata": {},
      "outputs": [],
      "source": [
        "import pandas as pd\n",
        "\n",
        "# Create synthetic data\n",
        "data = {\n",
        "    'patient_id': [1, 2, 3, 4],\n",
        "    'age': [25, None, 60, 40],\n",
        "    'diagnosis': ['Positive', 'Negative', 'Positive', None],\n",
        "}\n",
        "df = pd.DataFrame(data)\n",
        "print('Raw data:')\n",
        "print(df)\n",
        "\n",
        "# Basic cleaning: drop rows with missing mandatory fields\n",
        "clean = df.dropna(subset=['age', 'diagnosis']).copy()\n",
        "\n",
        "# Standardize diagnosis\n",
        "clean['diagnosis'] = clean['diagnosis'].str.title()\n",
        "\n",
        "print('\\nCleaned data:')\n",
        "print(clean)\n"
      ]
    }
  ],
  "metadata": {
    "kernelspec": {
      "display_name": "Python 3",
      "language": "python",
      "name": "python3"
    },
    "language_info": {
      "name": "python",
      "version": "3.x"
    }
  },
  "nbformat": 4,
  "nbformat_minor": 5
}